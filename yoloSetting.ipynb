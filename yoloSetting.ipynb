{
  "nbformat": 4,
  "nbformat_minor": 0,
  "metadata": {
    "colab": {
      "name": "yoloSetting.ipynb",
      "provenance": []
    },
    "kernelspec": {
      "name": "python3",
      "display_name": "Python 3"
    },
    "language_info": {
      "name": "python"
    }
  },
  "cells": [
    {
      "cell_type": "code",
      "metadata": {
        "id": "HBlq9CRg0IFX"
      },
      "source": [
        "!pip install colab_ssh --upgrade\n",
        "\n",
        "from colab_ssh import launch_ssh, init_git\n",
        "launch_ssh(\"Your auth token\", \"Wanted password\")\n",
        "\n",
        "init_git(\"https://github.com/cjm2021401/yolov5.git\")"
      ],
      "execution_count": null,
      "outputs": []
    },
    {
      "cell_type": "code",
      "metadata": {
        "id": "BXQKWKNA0WPd"
      },
      "source": [
        "#excute this code before going to web for update\n",
        "!cd /content/yolov5\n",
        "!python3 detectAndmosaic.py --weights /content/yolov5/tattoocigar_lbest.pt --img 448 --conf 0.1 --source /content/yolov5/test.jpg\n",
        "!rm -r runs"
      ],
      "execution_count": null,
      "outputs": []
    }
  ]
}